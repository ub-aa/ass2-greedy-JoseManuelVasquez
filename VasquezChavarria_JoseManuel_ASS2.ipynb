{
 "cells": [
  {
   "cell_type": "markdown",
   "metadata": {},
   "source": [
    "<div style=\"padding:30px; color: white; background-color: #0071CD\">\n",
    "<center>\n",
    "<img src=\"img/logoub.jpeg\"></img>\n",
    "<center>\n",
    "<p>\n",
    "<h1>Algorísmica Avançada</h1>\n",
    "<h2>Práctica 2: Greedy</h2>\n",
    "</center>\n",
    "</p>\n",
    "</div>"
   ]
  },
  {
   "cell_type": "markdown",
   "metadata": {},
   "source": [
    "<div class=\"alert alert-success\" style=\"width:90%; margin:0 auto;\">\n",
    "  <h2><p>Minimum Spanning Tree</p></h2>\n",
    "  <p>\n",
    "Dado un grafo conexo y no dirigido, un minimum spanning tree de ese grafo es un subgrafo que tiene que ser un árbol y contener todos los vértices del grafo inicial. Cada arista tiene asignado un peso proporcional entre ellos, que es un número representativo de algún objeto, distancia, etc.; y se usa para asignar un peso total al MST computando la suma de todos los pesos de las aristas del árbol en cuestión. Un MST o un árbol expandido mínimo es un árbol recubridor que pesa menos o igual que otros árboles recubridores. Todo grafo tiene un bosque recubridor mínimo.\n",
    "  </p>\n",
    "  <p>\n",
    "      En esta práctica se plantea la implementación del algoritmo de Prim para encontrar el arbol de expansión mínima en el metro de Londres.\n",
    "  </p>\n",
    "  </div>\n"
   ]
  },
  {
   "cell_type": "markdown",
   "metadata": {},
   "source": [
    "<div class=\"alert alert-danger\" style=\"width:80%; margin:0 auto; padding\">\n",
    "<center><p><h3> Código </h3></p> </center>\n",
    "<p>\n",
    "<h3>INPUT</h3>\n",
    "<ul>\n",
    "<li>__G__: El grafo del metro de londres.</li>\n",
    "</ul>\n",
    "<br>\n",
    "<h3>OUTPUT</h3>\n",
    "\n",
    "<ul>\n",
    "<li>\n",
    "__tree__: Objeto de tipo `Graph` que contenga el MST del grafo inical.\n",
    "</li>\n",
    "<ul>\n",
    "\n",
    "</p>\n",
    "</div>\n"
   ]
  },
  {
   "cell_type": "code",
   "execution_count": 1,
   "metadata": {
    "collapsed": false
   },
   "outputs": [],
   "source": [
    "import random\n",
    "\n",
    "def prim(G, origin=None):\n",
    "    \"\"\" Implementación del algoritmo de Prim para obtener el MST de un grafo cualquiera.\n",
    "    Args:\n",
    "        G (Graph): El grafo de tipo Graph sobre el que queremos buscar los componentes conexos\n",
    "    Returns:\n",
    "        tree: El grafo de tipo Graph que contiene el arbol de expansión mínima.\n",
    "    \"\"\"\n",
    "    \n",
    "    visited = []\n",
    "    tree = nx.Graph()\n",
    "    \n",
    "    # Comprovació si hi ha origen o hem de triar aleatòriament\n",
    "    if origin:\n",
    "        currentNode = origin\n",
    "    else:\n",
    "        currentNode = random.choice(list(G.nodes()))\n",
    "    \n",
    "    # Posem totes les aristes del node origen en una cua prioritària, per tal de comparar\n",
    "    # i triar el mínim i aconseguir el següent node a visitar \"neighbor\" amb format\n",
    "    # [distància, (nodeActual, veï)]\n",
    "    priorityQueue = [[G[currentNode][neighbor]['distance'], (currentNode, neighbor)]\\\n",
    "                     for neighbor in G.neighbors(currentNode)]\n",
    "    visited.append(currentNode)\n",
    "    \n",
    "    # Mentre el nombre de nodes visitats no sigui la carnidalitat de V\n",
    "    while len(visited) < len(G.nodes()):\n",
    "        \n",
    "        # Hem de treure la arista minima i afegir al tree\n",
    "        currentEdge = min(priorityQueue)\n",
    "        priorityQueue.remove(currentEdge)\n",
    "        \n",
    "        # Node actual, pot repetir-se en totes les iteracions\n",
    "        currentNode = currentEdge[1][1]\n",
    "        \n",
    "        # Veïns que no tornen a un node visitat, perquè poden produïr un cicle\n",
    "        neighborsNotVisited = [neighbor for neighbor in G.neighbors(currentNode) if neighbor not in visited]\n",
    "        \n",
    "        # S'afegeixen les aristes encara no comparades\n",
    "        for node in neighborsNotVisited:\n",
    "            priorityQueue.append([G[currentNode][node]['distance'], (currentNode, node)])\n",
    "        \n",
    "        # Si no es produeixen cicles, llavors afegim una nova arista\n",
    "        if currentNode not in visited:\n",
    "            tree.add_edge(currentEdge[1][0], currentEdge[1][1], distance=currentEdge[0])\n",
    "            visited.append(currentNode)\n",
    "    \n",
    "    return tree"
   ]
  },
  {
   "cell_type": "markdown",
   "metadata": {},
   "source": [
    "<div class=\"alert alert-danger\" style=\"width:80%; margin:0 auto; padding\">\n",
    "<center><p><h3> Tests </h3></p> </center>\n",
    "<p>\n",
    "Realiza los tests pertinentes en las celdas dispuestas a continuación.\n",
    "</p>\n",
    "</div>\n"
   ]
  },
  {
   "cell_type": "code",
   "execution_count": 2,
   "metadata": {
    "collapsed": false
   },
   "outputs": [
    {
     "name": "stdout",
     "output_type": "stream",
     "text": [
      "Aristes al nostre graf: 305\n",
      "Nodes al nostre graf: 306\n",
      "Nodes originals: 306\n"
     ]
    }
   ],
   "source": [
    "import networkx as nx\n",
    "from util import get_subway_graph, draw_subway_graph\n",
    "from graph import Graph\n",
    "\n",
    "G = Graph()\n",
    "G, lines = get_subway_graph('csv', Graph)\n",
    "\n",
    "F = prim(G, 1)\n",
    "\n",
    "print(\"Aristes al nostre graf: \" + str(len(F.edges())))\n",
    "print(\"Nodes al nostre graf: \" + str(len(F.nodes())))\n",
    "print(\"Nodes originals: \" + str(len(G.nodes())))"
   ]
  },
  {
   "cell_type": "markdown",
   "metadata": {},
   "source": [
    "<div class=\"alert alert-warning\" style=\"width:100%; margin:0 auto; padding\">\n",
    "<center><p><h3>Altres Tests </h3></p> </center>\n",
    "<p>\n",
    "Altres proves amb un altre graf més simple de la llibreria networkx\n",
    "</p>\n",
    "</div>"
   ]
  },
  {
   "cell_type": "code",
   "execution_count": 3,
   "metadata": {
    "collapsed": false
   },
   "outputs": [
    {
     "data": {
      "image/png": "[encoded data removed]",
      "text/plain": [
       "<matplotlib.figure.Figure at 0x7f51480ac438>"
      ]
     },
     "metadata": {},
     "output_type": "display_data"
    }
   ],
   "source": [
    "# ALTRES PROVES amb un altre graf més simple de la llibreria networkx\n",
    "\n",
    "# Creació del graf\n",
    "\n",
    "%matplotlib inline\n",
    "import networkx as nx\n",
    "G = nx.Graph()\n",
    "G.add_edges_from([('A','B',{'distance': 3}),('A','D',{'distance': 2}),('D','F',{'distance': 17})\\\n",
    "                  ,('B','E',{'distance': 5}),('B','C',{'distance': 4}),('E','C',{'distance': 10})\\\n",
    "                  ,('E','F',{'distance': 1})])\n",
    "nx.draw_circular(G, with_labels=True)"
   ]
  },
  {
   "cell_type": "code",
   "execution_count": 4,
   "metadata": {
    "collapsed": false
   },
   "outputs": [
    {
     "name": "stdout",
     "output_type": "stream",
     "text": [
      "[1, ('F', 'E')]\n",
      "[2, ('D', 'A')]\n",
      "[3, ('A', 'B')]\n",
      "[4, ('C', 'B')]\n",
      "[5, ('E', 'B')]\n"
     ]
    },
    {
     "data": {
      "image/png": "[encoded data removed]",
      "text/plain": [
       "<matplotlib.figure.Figure at 0x7f51480296d8>"
      ]
     },
     "metadata": {},
     "output_type": "display_data"
    }
   ],
   "source": [
    "# Creació del MST amb Prim\n",
    "F = prim(G, 'A')\n",
    "nx.draw_circular(F, with_labels=True)\n",
    "\n",
    "for edge in F.edges():\n",
    "    print([F[edge[0]][edge[1]]['distance'], edge])"
   ]
  },
  {
   "cell_type": "markdown",
   "metadata": {},
   "source": [
    "<div class=\"alert alert-info\">\n",
    "<center>\n",
    "  <h1>Comentarios</h1>\n",
    "  <p>\n",
    "  En esta sección tenéis que comentar brevemente (1) __cómo habéis realizado la implementación del algoritmo__ así como un (2) __análisis detallado de la complejidad__ del mismo.\n",
    "  </p>\n",
    "</center>\n",
    "</div>"
   ]
  },
  {
   "cell_type": "markdown",
   "metadata": {},
   "source": [
    "### _He implementat l'algorisme retornant un Graph predefinit a la llibreria networkx, per compatibilitat amb altres grafs que no siguin els nostres. Podem saber que l'arbre s'ha creat bé si la cardinalitat dels nodes és la cardinalitat dels nodes - 1, és a dir, en un arbre sempre es compleix |V| = |E|-1, perquè no hi ha cicles._\n",
    "\n",
    "### _En primer lloc, es defineix si hi ha un origen o hem de triar aleatòriament. Com a primera iteració, es definex la cua prioritària amb els veïns del node origen triat. Si els nodes visitats coincideixen amb els nodes totals del graf, llavors hem d'aturar la iteració, perquè ja hem trobat l'arbre mínim._\n",
    "\n",
    "### _També, podriem haver controlat que la cua prioritària no sigui buida, però el graf paràmetre sempre és connex i per tant no cal fer-ho, perquè si tenim cicles al nostre graf o 1 cicle com a mínim , es donarà el cas, |V|<=|E| i per això sempre hi ha més aristes que nodes en un graf que no sigui un arbre, en cas de passar per paràmetre un arbre, els nodes visitats ja controlen que el graf sortida sigui correcte._"
   ]
  },
  {
   "cell_type": "markdown",
   "metadata": {},
   "source": [
    "<div class=\"alert alert-info\">\n",
    "<center>\n",
    "  <h1>Entrega</h1>\n",
    "  <p>\n",
    "  La entrega de esta práctica se realizará a través del __Campus Virtual__. En ella tenéis que incluir únicamente el fichero `.ipynb` sin comprimir con el código debidamente comentado y los comentarios que se os proponen en la anterior sección.\n",
    "  </p>\n",
    "  <p>\n",
    "  El nombre del archivo ha de seguir el formato:\n",
    "  </p><p style=\"text-align:center\">\n",
    "  ```\n",
    "  <apellidos>_<nombre>_EP1.ipynb\n",
    "  ```\n",
    "  </p>\n",
    "</center>\n",
    "</div>"
   ]
  }
 ],
 "metadata": {
  "kernelspec": {
   "display_name": "Python 3",
   "language": "python",
   "name": "python3"
  },
  "language_info": {
   "codemirror_mode": {
    "name": "ipython",
    "version": 3
   },
   "file_extension": ".py",
   "mimetype": "text/x-python",
   "name": "python",
   "nbconvert_exporter": "python",
   "pygments_lexer": "ipython3",
   "version": "3.5.3"
  }
 },
 "nbformat": 4,
 "nbformat_minor": 2
}
